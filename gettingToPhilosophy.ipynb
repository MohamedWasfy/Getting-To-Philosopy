{
  "nbformat": 4,
  "nbformat_minor": 0,
  "metadata": {
    "colab": {
      "name": "gettingToPhilosophy.ipynb",
      "provenance": [],
      "collapsed_sections": [],
      "authorship_tag": "ABX9TyNMZJ76SbBlZ6tWkosZ2VbF",
      "include_colab_link": true
    },
    "kernelspec": {
      "name": "python3",
      "display_name": "Python 3"
    }
  },
  "cells": [
    {
      "cell_type": "markdown",
      "metadata": {
        "id": "view-in-github",
        "colab_type": "text"
      },
      "source": [
        "<a href=\"https://colab.research.google.com/github/MohamedWasfy/Getting-To-Philosopy/blob/master/gettingToPhilosophy.ipynb\" target=\"_parent\"><img src=\"https://colab.research.google.com/assets/colab-badge.svg\" alt=\"Open In Colab\"/></a>"
      ]
    },
    {
      "cell_type": "code",
      "metadata": {
        "id": "VF8IsiFi9uo-",
        "colab_type": "code",
        "colab": {}
      },
      "source": [
        "import time\n",
        "import urllib\n",
        "from bs4 import BeautifulSoup as Bs\n",
        "import requests\n",
        "\n",
        "start_page= 'https://en.wikipedia.org/wiki/Special:Random'\n",
        "final_page= 'https://en.wikipedia.org/wiki/Philosophy'\n"
      ],
      "execution_count": 1,
      "outputs": []
    },
    {
      "cell_type": "code",
      "metadata": {
        "id": "sKRqlIcVBxFh",
        "colab_type": "code",
        "colab": {}
      },
      "source": [
        "# get the first linkin body \n",
        "def get_first_link(url):\n",
        "  # initializing the return value with none to return it if no link is found\n",
        "  first_link= None\n",
        "\n",
        "  response= requests.get(url) # calling the url\n",
        "  html = response.text\n",
        "  soup = Bs(html, \"html.parser\")\n",
        "\n",
        "  #extract the main div that contains the paragraphs\n",
        "  main_body= soup.find(id=\"mw-content-text\").find(class_=\"mw-parser-output\")\n",
        "\n",
        "  #looping over paragraphs to search a link in them\n",
        "  #recursive= False to only in direct children not further\n",
        "  for paragraph in main_body.find_all(\"p\",recursive= False):\n",
        "    # catching the first link and get out\n",
        "    if paragraph.find(\"a\"):\n",
        "      first_link = paragraph.find(\"a\").get('href','')\n",
        "      break\n",
        "\n",
        "  return first_link\n"
      ],
      "execution_count": 21,
      "outputs": []
    },
    {
      "cell_type": "code",
      "metadata": {
        "id": "VH-WpyItKxda",
        "colab_type": "code",
        "colab": {}
      },
      "source": [
        "#creat full link\n",
        "def create_full_url(link):\n",
        "  return urllib.parse.urljoin('https://en.wikipedia.org/', link)"
      ],
      "execution_count": 7,
      "outputs": []
    },
    {
      "cell_type": "code",
      "metadata": {
        "id": "OrmSj8MhIb41",
        "colab_type": "code",
        "colab": {
          "base_uri": "https://localhost:8080/",
          "height": 252
        },
        "outputId": "83bb578b-0105-45ea-87d6-e8a5a57703bd"
      },
      "source": [
        "keep_going= True # flag to get into the loop from the start page and escape loop at any excpetion\n",
        "visited_pages=[start_page] # a list of perviously visited pages\n",
        "current_page=start_page # the page we currently looking into and initialalized with start page\n",
        "\n",
        "while keep_going:\n",
        "\n",
        "  print(visited_pages[-1])\n",
        "\n",
        "  if (get_first_link(current_page) == None):\n",
        "    print(\"ERROR : reached a page with no outgoing links\")\n",
        "    keep_going= False\n",
        "\n",
        "  url = create_full_url(get_first_link(current_page))\n",
        "\n",
        "  if (url == final_page):\n",
        "    print(url)\n",
        "    print(\"BINGO : Philosopy page is reached\")\n",
        "    keep_going= False\n",
        "  elif (url in visited_pages):\n",
        "    print(url)\n",
        "    print(\"ERROR : this page has been visited before\")\n",
        "    keep_going= False\n",
        "  \n",
        "  visited_pages.append(url)\n",
        "  current_page= url\n",
        "\n",
        "  time.sleep(0.5) # AS INSTRUCTED : Use a 0.5 second timeout between queries to avoid heavy load on Wikipedia (sleep function from time module)\n",
        "\n",
        "\n"
      ],
      "execution_count": 22,
      "outputs": [
        {
          "output_type": "stream",
          "text": [
            "https://en.wikipedia.org/wiki/Special:Random\n",
            "https://en.wikipedia.org/wiki/Goin%27_Bulilit\n",
            "https://en.wikipedia.org/wiki/Philippines\n",
            "https://en.wikipedia.org/wiki/Help:IPA/English\n",
            "https://en.wikipedia.org/wiki/International_Phonetic_Alphabet\n",
            "https://en.wikipedia.org/wiki/Alphabet\n",
            "https://en.wikipedia.org/wiki/Symbols\n",
            "https://en.wikipedia.org/wiki/Word\n",
            "https://en.wikipedia.org/wiki/Linguistics\n",
            "https://en.wikipedia.org/wiki/Science\n",
            "https://en.wikipedia.org/wiki/Latin\n",
            "https://en.wikipedia.org/wiki/Help:IPA/Latin\n",
            "https://en.wikipedia.org/wiki/International_Phonetic_Alphabet\n",
            "ERROR : this page has been visited before\n"
          ],
          "name": "stdout"
        }
      ]
    }
  ]
}